{
 "cells": [
  {
   "attachments": {},
   "cell_type": "markdown",
   "metadata": {},
   "source": [
    "# Introduction to geometry parsing using IfcOpenShell\n",
    "\n",
    "This demo uses the IfcOpenShell [IfcOpenShell](https://ifcopenshell.org/), a powerful toolkit to interact with IFC files and follows some instructions of [https://thinkmoult.com/using-ifcopenshell-parse-ifc-files-python.html](https://thinkmoult.com/using-ifcopenshell-parse-ifc-files-python.html). \n",
    "\n",
    "## Installation\n",
    "There are multiple ways to use IfcOpenShell and manage dependencies, see [IfcOpenShell_Installation](https://blenderbim.org/docs-python/ifcopenshell-python/installation.html). For using it with Anaconda, the `environment.yml` file is provided in this repository. Anyway, feel free to use whatever installation method suits you best. \n",
    "\n",
    "\n",
    "\n"
   ]
  },
  {
   "cell_type": "code",
   "execution_count": null,
   "metadata": {},
   "outputs": [],
   "source": [
    "import ifcopenshell"
   ]
  },
  {
   "attachments": {},
   "cell_type": "markdown",
   "metadata": {},
   "source": [
    "## Open an IFC file and explore its contents\n",
    "We use an example file obtained from the Buildingsmart examples repository [https://github.com/buildingSMART/Sample-Test-Files](https://github.com/buildingSMART/Sample-Test-Files). The IFC 4.0 version is used as it is the recent stable release of IFC. The example might work with older versions like IFC 2x3 as well. Please note, that some specifications have changed so it might break. \\\n",
    "This screenshot gives you an idea of what the file contains visually: \\\n",
    "![IFC sample file](../data/ifc_sample_file_view.png)"
   ]
  },
  {
   "cell_type": "code",
   "execution_count": null,
   "metadata": {},
   "outputs": [],
   "source": [
    "ifc_file = ifcopenshell.open(\"../data/wall-with-opening-and-window.ifc\")\n",
    "\n",
    "# what is in the ifc file\n",
    "products = ifc_file.by_type('IfcProduct')\n",
    "for product in products:\n",
    "    print(product.is_a())"
   ]
  },
  {
   "attachments": {},
   "cell_type": "markdown",
   "metadata": {},
   "source": [
    "## Get the right element\n",
    "\n",
    "As specified in the IFC standard, opening such as Windows and Doors always come with an IfcOpeningElement. Technically, the opening element causes the void in the parent element (wall, slab, ...). As its geometry is way less complex than the one of the window or door itself (of course depending on the level of detail), the opening is a good place to start to retrieve the geometric features of the opening for robotic task planning and other applications. \n",
    "The approach to filtering the correct element is pretty straightforward as the sample data only consists of a wall with a window and one opening element. So we just take the first element of the list of openings "
   ]
  },
  {
   "cell_type": "code",
   "execution_count": null,
   "metadata": {},
   "outputs": [],
   "source": [
    "# Get the opening element\n",
    "opening = ifc_file.by_type(\"IfcOpeningElement\")[0]\n",
    "print(\"Return all information of opening as dicitonary:\", opening.get_info())"
   ]
  },
  {
   "attachments": {},
   "cell_type": "markdown",
   "metadata": {},
   "source": [
    "## Local placement\n",
    "\n",
    "What makes life a bit complex is that the stack of local placements needs to be considered. Local placements can be considered local coordinate systems. \\\n",
    "This figure illustrates how the placement interacts with the extruded area solid: \\\n",
    "![Placement and Extruded Area Solid](../data/ifcextrudedareasolid-fig1.png)"
   ]
  },
  {
   "cell_type": "code",
   "execution_count": null,
   "metadata": {},
   "outputs": [],
   "source": [
    "print(\"Check if there is a relative placement:\",opening.ObjectPlacement.RelativePlacement)\n",
    "print(\"Get the location of the relative placement:\", opening.ObjectPlacement.RelativePlacement.Location)\n",
    "relative_placement = tuple(opening.ObjectPlacement.RelativePlacement.Location[0])\n",
    "print(\"Get the direction of the relative placement:\", opening.ObjectPlacement.RelativePlacement.RefDirection)\n"
   ]
  },
  {
   "attachments": {},
   "cell_type": "markdown",
   "metadata": {},
   "source": [
    "## Geometric features\n",
    "\n",
    "The geometry in IFC lives in the so called \"Representation\". As IFC is hierarchical and its complex can be a bit complex, some other classes appear. But technically, we need to get the Representation (again the first item of the list). Then we can exploit the various geometric information. \\\n",
    "In this example the Representation is an IfcExtrudedAreaSolid, a very common representation. "
   ]
  },
  {
   "cell_type": "code",
   "execution_count": null,
   "metadata": {},
   "outputs": [],
   "source": [
    "# Start digging into the geometry\n",
    "# Geometry is in the IFC representation, so we retrieve the first item of the Representations list\n",
    "geometry = opening.Representation.Representations[0].Items[0]\n",
    "print(\"Representation of opening element:\", geometry)\n",
    "\n",
    "print(\"The placement (i. e. local coordinate system):\", geometry.Position.Location[0]) \n",
    "print(\"Direction of the Extrusion:\", geometry.ExtrudedDirection)\n",
    "extrusion_depth = geometry.Depth \n",
    "print(\"Depth of Extrusion:\", extrusion_depth) \n",
    "print(\"Extrusion area:\", geometry.SweptArea) \n",
    "print(\"Poly line:\", geometry.SweptArea.OuterCurve)\n",
    "print(\"Points of the polyline round the extrusion area:\", geometry.SweptArea.OuterCurve.Points) \n"
   ]
  },
  {
   "attachments": {},
   "cell_type": "markdown",
   "metadata": {},
   "source": [
    "## Parse coordinates\n",
    "\n",
    "We can now parse a list of coordinates of the extrusion area. You may notice that the coordinates are in the horizontal XY plane and must be transformed according to the local placement. The 8 corner points can be obtained by adding the Z component and the Extrusion depth"
   ]
  },
  {
   "cell_type": "code",
   "execution_count": null,
   "metadata": {},
   "outputs": [],
   "source": [
    "points = geometry.SweptArea.OuterCurve.Points\n",
    "print(\"Points from the IFC file:\", points)\n",
    "\n",
    "# in this simple example we will add the x, y and z components of the local placement to get the transformed coordinates\n",
    "x_transform = relative_placement[0]\n",
    "y_transform = relative_placement[1]\n",
    "z_transform = relative_placement[2]\n",
    "\n",
    "point_list = []\n",
    "for point in points:\n",
    "    for coord in point:\n",
    "        # transform according to relative placement\n",
    "        coord_transform = (coord[0] + x_transform, coord[1] + y_transform, z_transform)\n",
    "        point_list.append(coord_transform)\n",
    "        # add 4 more points with z + extrusion_depth as upper corners\n",
    "        upper_corner = (coord[0] + x_transform, coord[1] + y_transform, z_transform + extrusion_depth)\n",
    "        point_list.append(upper_corner)\n",
    "\n",
    "print(point_list)"
   ]
  },
  {
   "attachments": {},
   "cell_type": "markdown",
   "metadata": {},
   "source": [
    "## Discussion\n",
    "\n",
    "It is not mandatory for the opening element to be aligned with the vertical wall surfaces. In fact that is a point that is ignored in many cases. So, the coordinates of the opening do not necessarily give you the coordinates on the wall surface. Hence, checks and error handling need to be implemented to make this robust. \n",
    "\n",
    "[https://github.com/IfcOpenShell/IfcOpenShell/issues/551](https://github.com/IfcOpenShell/IfcOpenShell/issues/551)"
   ]
  }
 ],
 "metadata": {
  "kernelspec": {
   "display_name": "ifcopenshell",
   "language": "python",
   "name": "python3"
  },
  "language_info": {
   "codemirror_mode": {
    "name": "ipython",
    "version": 3
   },
   "file_extension": ".py",
   "mimetype": "text/x-python",
   "name": "python",
   "nbconvert_exporter": "python",
   "pygments_lexer": "ipython3",
   "version": "3.10.8"
  },
  "orig_nbformat": 4,
  "vscode": {
   "interpreter": {
    "hash": "666a99c09fe461da5ceffb3985deb4da39210051becc79046941a4c416fad07a"
   }
  }
 },
 "nbformat": 4,
 "nbformat_minor": 2
}
